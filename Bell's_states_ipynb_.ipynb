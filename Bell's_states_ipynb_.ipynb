{
  "nbformat": 4,
  "nbformat_minor": 0,
  "metadata": {
    "colab": {
      "provenance": []
    },
    "kernelspec": {
      "name": "python3",
      "display_name": "Python 3"
    },
    "language_info": {
      "name": "python"
    }
  },
  "cells": [
    {
      "cell_type": "code",
      "execution_count": null,
      "metadata": {
        "colab": {
          "base_uri": "https://localhost:8080/"
        },
        "id": "GnYrXJzQTuKT",
        "outputId": "a6ea5a13-0669-4087-f784-ff1d1a549535"
      },
      "outputs": [
        {
          "output_type": "stream",
          "name": "stdout",
          "text": [
            "Looking in indexes: https://pypi.org/simple, https://us-python.pkg.dev/colab-wheels/public/simple/\n",
            "Requirement already satisfied: qiskit in /usr/local/lib/python3.9/dist-packages (0.41.1)\n",
            "Requirement already satisfied: qiskit-ibmq-provider==0.20.1 in /usr/local/lib/python3.9/dist-packages (from qiskit) (0.20.1)\n",
            "Requirement already satisfied: qiskit-terra==0.23.2 in /usr/local/lib/python3.9/dist-packages (from qiskit) (0.23.2)\n",
            "Requirement already satisfied: qiskit-aer==0.11.2 in /usr/local/lib/python3.9/dist-packages (from qiskit) (0.11.2)\n",
            "Requirement already satisfied: scipy>=1.0 in /usr/local/lib/python3.9/dist-packages (from qiskit-aer==0.11.2->qiskit) (1.10.1)\n",
            "Requirement already satisfied: numpy>=1.16.3 in /usr/local/lib/python3.9/dist-packages (from qiskit-aer==0.11.2->qiskit) (1.22.4)\n",
            "Requirement already satisfied: urllib3~=1.26.0 in /usr/local/lib/python3.9/dist-packages (from qiskit-ibmq-provider==0.20.1->qiskit) (1.26.14)\n",
            "Requirement already satisfied: requests-ntlm~=1.1.0 in /usr/local/lib/python3.9/dist-packages (from qiskit-ibmq-provider==0.20.1->qiskit) (1.1.0)\n",
            "Requirement already satisfied: requests~=2.28.0 in /usr/local/lib/python3.9/dist-packages (from qiskit-ibmq-provider==0.20.1->qiskit) (2.28.2)\n",
            "Requirement already satisfied: websockets~=10.0 in /usr/local/lib/python3.9/dist-packages (from qiskit-ibmq-provider==0.20.1->qiskit) (10.4)\n",
            "Requirement already satisfied: python-dateutil~=2.8.0 in /usr/local/lib/python3.9/dist-packages (from qiskit-ibmq-provider==0.20.1->qiskit) (2.8.2)\n",
            "Requirement already satisfied: websocket-client~=1.5.1 in /usr/local/lib/python3.9/dist-packages (from qiskit-ibmq-provider==0.20.1->qiskit) (1.5.1)\n",
            "Requirement already satisfied: dill>=0.3 in /usr/local/lib/python3.9/dist-packages (from qiskit-terra==0.23.2->qiskit) (0.3.6)\n",
            "Requirement already satisfied: symengine>=0.9 in /usr/local/lib/python3.9/dist-packages (from qiskit-terra==0.23.2->qiskit) (0.9.2)\n",
            "Requirement already satisfied: rustworkx>=0.12.0 in /usr/local/lib/python3.9/dist-packages (from qiskit-terra==0.23.2->qiskit) (0.12.1)\n",
            "Requirement already satisfied: ply>=3.10 in /usr/local/lib/python3.9/dist-packages (from qiskit-terra==0.23.2->qiskit) (3.11)\n",
            "Requirement already satisfied: sympy>=1.3 in /usr/local/lib/python3.9/dist-packages (from qiskit-terra==0.23.2->qiskit) (1.7.1)\n",
            "Requirement already satisfied: psutil>=5 in /usr/local/lib/python3.9/dist-packages (from qiskit-terra==0.23.2->qiskit) (5.4.8)\n",
            "Requirement already satisfied: stevedore>=3.0.0 in /usr/local/lib/python3.9/dist-packages (from qiskit-terra==0.23.2->qiskit) (5.0.0)\n",
            "Requirement already satisfied: six>=1.5 in /usr/local/lib/python3.9/dist-packages (from python-dateutil~=2.8.0->qiskit-ibmq-provider==0.20.1->qiskit) (1.15.0)\n",
            "Requirement already satisfied: certifi>=2017.4.17 in /usr/local/lib/python3.9/dist-packages (from requests~=2.28.0->qiskit-ibmq-provider==0.20.1->qiskit) (2022.12.7)\n",
            "Requirement already satisfied: charset-normalizer<4,>=2 in /usr/local/lib/python3.9/dist-packages (from requests~=2.28.0->qiskit-ibmq-provider==0.20.1->qiskit) (3.1.0)\n",
            "Requirement already satisfied: idna<4,>=2.5 in /usr/local/lib/python3.9/dist-packages (from requests~=2.28.0->qiskit-ibmq-provider==0.20.1->qiskit) (2.10)\n",
            "Requirement already satisfied: ntlm-auth>=1.0.2 in /usr/local/lib/python3.9/dist-packages (from requests-ntlm~=1.1.0->qiskit-ibmq-provider==0.20.1->qiskit) (1.5.0)\n",
            "Requirement already satisfied: cryptography>=1.3 in /usr/local/lib/python3.9/dist-packages (from requests-ntlm~=1.1.0->qiskit-ibmq-provider==0.20.1->qiskit) (39.0.2)\n",
            "Requirement already satisfied: pbr!=2.1.0,>=2.0.0 in /usr/local/lib/python3.9/dist-packages (from stevedore>=3.0.0->qiskit-terra==0.23.2->qiskit) (5.11.1)\n",
            "Requirement already satisfied: mpmath>=0.19 in /usr/local/lib/python3.9/dist-packages (from sympy>=1.3->qiskit-terra==0.23.2->qiskit) (1.2.1)\n",
            "Requirement already satisfied: cffi>=1.12 in /usr/local/lib/python3.9/dist-packages (from cryptography>=1.3->requests-ntlm~=1.1.0->qiskit-ibmq-provider==0.20.1->qiskit) (1.15.1)\n",
            "Requirement already satisfied: pycparser in /usr/local/lib/python3.9/dist-packages (from cffi>=1.12->cryptography>=1.3->requests-ntlm~=1.1.0->qiskit-ibmq-provider==0.20.1->qiskit) (2.21)\n",
            "Looking in indexes: https://pypi.org/simple, https://us-python.pkg.dev/colab-wheels/public/simple/\n",
            "Requirement already satisfied: pylatexenc in /usr/local/lib/python3.9/dist-packages (2.10)\n",
            "Looking in indexes: https://pypi.org/simple, https://us-python.pkg.dev/colab-wheels/public/simple/\n",
            "Requirement already satisfied: matplotlib in /usr/local/lib/python3.9/dist-packages (3.5.3)\n",
            "Requirement already satisfied: pyparsing>=2.2.1 in /usr/local/lib/python3.9/dist-packages (from matplotlib) (3.0.9)\n",
            "Requirement already satisfied: cycler>=0.10 in /usr/local/lib/python3.9/dist-packages (from matplotlib) (0.11.0)\n",
            "Requirement already satisfied: kiwisolver>=1.0.1 in /usr/local/lib/python3.9/dist-packages (from matplotlib) (1.4.4)\n",
            "Requirement already satisfied: packaging>=20.0 in /usr/local/lib/python3.9/dist-packages (from matplotlib) (23.0)\n",
            "Requirement already satisfied: fonttools>=4.22.0 in /usr/local/lib/python3.9/dist-packages (from matplotlib) (4.39.0)\n",
            "Requirement already satisfied: numpy>=1.17 in /usr/local/lib/python3.9/dist-packages (from matplotlib) (1.22.4)\n",
            "Requirement already satisfied: python-dateutil>=2.7 in /usr/local/lib/python3.9/dist-packages (from matplotlib) (2.8.2)\n",
            "Requirement already satisfied: pillow>=6.2.0 in /usr/local/lib/python3.9/dist-packages (from matplotlib) (8.4.0)\n",
            "Requirement already satisfied: six>=1.5 in /usr/local/lib/python3.9/dist-packages (from python-dateutil>=2.7->matplotlib) (1.15.0)\n"
          ]
        }
      ],
      "source": [
        "!pip install qiskit\n",
        "!pip install pylatexenc\n",
        "!pip install matplotlib"
      ]
    },
    {
      "cell_type": "markdown",
      "source": [
        "**Получение состояний Белла, используя только тензорное произведние кубитов и оператор CNOT:**\n"
      ],
      "metadata": {
        "id": "6eXnzvseueat"
      }
    },
    {
      "cell_type": "code",
      "source": [
        "from qiskit.quantum_info import Statevector, Operator\n",
        "import numpy as np\n",
        "import pylatexenc\n",
        "\n",
        "plus = Statevector([1/np.sqrt(2), 1/np.sqrt(2)])\n",
        "minus = Statevector([1/np.sqrt(2), -1/np.sqrt(2)])\n",
        "zero = Statevector([1, 0])\n",
        "one = Statevector([0, 1])\n",
        "CNOT = Operator([ [1, 0, 0, 0],\n",
        "                 [0, 1, 0, 0],\n",
        "                 [0, 0, 0, 1],\n",
        "                 [0, 0, 1, 0] ])\n",
        "phi_plus= plus.tensor(zero).evolve(CNOT)\n",
        "phi_minus = minus.tensor(zero).evolve(CNOT)\n",
        "psi_plus = plus.tensor(one).evolve(CNOT)\n",
        "psi_minus = minus.tensor(one).evolve(CNOT)\n",
        "\n",
        "#display(phi_plus)\n",
        "phi_plus.draw('latex')\n",
        "\n",
        "\n",
        "\n",
        "\n",
        "\n",
        "\n"
      ],
      "metadata": {
        "colab": {
          "base_uri": "https://localhost:8080/",
          "height": 40
        },
        "id": "2H1W5_HRUOC_",
        "outputId": "06ea4159-f88a-49d8-ebdb-041e92a714a7"
      },
      "execution_count": null,
      "outputs": [
        {
          "output_type": "execute_result",
          "data": {
            "text/plain": [
              "<IPython.core.display.Latex object>"
            ],
            "text/latex": "$$\\frac{\\sqrt{2}}{2} |00\\rangle+\\frac{\\sqrt{2}}{2} |11\\rangle$$"
          },
          "metadata": {},
          "execution_count": 3
        }
      ]
    },
    {
      "cell_type": "code",
      "source": [
        "phi_minus.draw('latex')"
      ],
      "metadata": {
        "colab": {
          "base_uri": "https://localhost:8080/",
          "height": 40
        },
        "id": "MrQVXexJosBA",
        "outputId": "ba1c0d18-b364-4d0e-b406-882bb63724d3"
      },
      "execution_count": null,
      "outputs": [
        {
          "output_type": "execute_result",
          "data": {
            "text/plain": [
              "<IPython.core.display.Latex object>"
            ],
            "text/latex": "$$\\frac{\\sqrt{2}}{2} |00\\rangle- \\frac{\\sqrt{2}}{2} |11\\rangle$$"
          },
          "metadata": {},
          "execution_count": 4
        }
      ]
    },
    {
      "cell_type": "code",
      "source": [
        "psi_plus.draw('latex')"
      ],
      "metadata": {
        "colab": {
          "base_uri": "https://localhost:8080/",
          "height": 40
        },
        "id": "telMtomgosH_",
        "outputId": "813ff0c9-e099-483b-9f6d-998720613401"
      },
      "execution_count": null,
      "outputs": [
        {
          "output_type": "execute_result",
          "data": {
            "text/plain": [
              "<IPython.core.display.Latex object>"
            ],
            "text/latex": "$$\\frac{\\sqrt{2}}{2} |01\\rangle+\\frac{\\sqrt{2}}{2} |10\\rangle$$"
          },
          "metadata": {},
          "execution_count": 5
        }
      ]
    },
    {
      "cell_type": "code",
      "source": [
        "psi_minus.draw('latex')"
      ],
      "metadata": {
        "colab": {
          "base_uri": "https://localhost:8080/",
          "height": 40
        },
        "id": "LlUziZaDosP8",
        "outputId": "bdc3879f-ad6e-4d03-a042-4f8c99b28653"
      },
      "execution_count": null,
      "outputs": [
        {
          "output_type": "execute_result",
          "data": {
            "text/plain": [
              "<IPython.core.display.Latex object>"
            ],
            "text/latex": "$$\\frac{\\sqrt{2}}{2} |01\\rangle- \\frac{\\sqrt{2}}{2} |10\\rangle$$"
          },
          "metadata": {},
          "execution_count": 6
        }
      ]
    },
    {
      "cell_type": "markdown",
      "source": [
        "**Получение состояний Белла в квантовых цепочках:**"
      ],
      "metadata": {
        "id": "fbk1efbbu0z5"
      }
    },
    {
      "cell_type": "code",
      "source": [
        "\n",
        "'''\n",
        "X = []\n",
        "Y = []\n",
        "A = []\n",
        "B = []\n",
        "for i in range(1, 5):\n",
        "  X.append(QuantumRegister(1, \"x\"+str(i)))\n",
        "  Y.append(QuantumRegister(1, \"y\"+str(i)))\n",
        "  A.append(ClassicalRegister(1, \"a\" + str(i)))\n",
        "  B.append(ClassicalRegister(1, \"b\" + str(i)))\n",
        "\n",
        "A = ClassicalRegister(1, \"a\")\n",
        "B = ClassicalRegister(1, \"b\")\n",
        "circuit = QuantumCircuit(Y, X, A, B)\n",
        "#circuit = QuantumCircuit(Y[0], X[0], B[0], A[0], Y[1], X[1], B[1], A[1], Y[2], X[2], B[2], A[2], Y[3], X[3], B[3], A[3])\n",
        "circuit.x(Y[1])\n",
        "circuit.x(X[2])\n",
        "circuit.x(X[3])\n",
        "circuit.x(Y[3])\n",
        "for i in range(4):\n",
        "  circuit.h(Y[i])\n",
        "  circuit.cx(Y[i], X[i])\n",
        "  circuit.measure(Y[i], B[i])\n",
        "  circuit.measure(X[i], A[i])\n",
        "'''\n",
        "from qiskit import QuantumCircuit, QuantumRegister, ClassicalRegister\n",
        "X = QuantumRegister(1, \"x\")\n",
        "Y = QuantumRegister(1, \"y\")\n",
        "A = ClassicalRegister(1, \"a\")\n",
        "B = ClassicalRegister(1, \"b\")\n",
        "circuit = QuantumCircuit(Y, X, B, A)\n",
        "circuit.h(Y)\n",
        "circuit.cx(Y, X)\n",
        "\n",
        "circuit.measure(Y, B)\n",
        "circuit.measure(X, A)\n",
        "circuit.draw()\n",
        "circuit.draw('mpl')"
      ],
      "metadata": {
        "id": "rPIUZAnsUOOO",
        "colab": {
          "base_uri": "https://localhost:8080/",
          "height": 231
        },
        "outputId": "58b50abd-af35-42b2-d13e-a3b218c373e1"
      },
      "execution_count": null,
      "outputs": [
        {
          "output_type": "execute_result",
          "data": {
            "text/plain": [
              "<Figure size 314.271x264.88 with 1 Axes>"
            ],
            "image/png": "[encoded data removed]"
          },
          "metadata": {},
          "execution_count": 7
        }
      ]
    },
    {
      "cell_type": "code",
      "source": [
        "from qiskit import transpile\n",
        "from qiskit.visualization import plot_histogram\n",
        "from qiskit_aer import AerSimulator\n",
        "\n",
        "simulator = AerSimulator()\n",
        "circuit_simulator = simulator.run(transpile(circuit,simulator), shots=1000)\n",
        "statistics = circuit_simulator.result().get_counts()\n",
        "plot_histogram(statistics)"
      ],
      "metadata": {
        "id": "BUWtOcnhUOU5",
        "colab": {
          "base_uri": "https://localhost:8080/",
          "height": 335
        },
        "outputId": "5233630d-b3b0-4502-fb31-1da0364eff20"
      },
      "execution_count": null,
      "outputs": [
        {
          "output_type": "execute_result",
          "data": {
            "text/plain": [
              "<Figure size 504x360 with 1 Axes>"
            ],
            "image/png": "[encoded data removed]"
          },
          "metadata": {},
          "execution_count": 15
        }
      ]
    },
    {
      "cell_type": "code",
      "source": [
        "from qiskit import QuantumCircuit, QuantumRegister, ClassicalRegister\n",
        "X = QuantumRegister(1, \"x\")\n",
        "Y = QuantumRegister(1, \"y\")\n",
        "A = ClassicalRegister(1, \"a\")\n",
        "B = ClassicalRegister(1, \"b\")\n",
        "circuit = QuantumCircuit(Y, X, B, A)\n",
        "circuit.x(Y)\n",
        "circuit.h(Y)\n",
        "circuit.cx(Y, X)\n",
        "\n",
        "circuit.measure(Y, B)\n",
        "circuit.measure(X, A)\n",
        "circuit.draw()\n",
        "circuit.draw('mpl')"
      ],
      "metadata": {
        "id": "j9LtL23wUOZq",
        "colab": {
          "base_uri": "https://localhost:8080/",
          "height": 231
        },
        "outputId": "910b2d93-bf58-4572-d4d8-611c66be4107"
      },
      "execution_count": null,
      "outputs": [
        {
          "output_type": "execute_result",
          "data": {
            "text/plain": [
              "<Figure size 374.471x264.88 with 1 Axes>"
            ],
            "image/png": "[encoded data removed]"
          },
          "metadata": {},
          "execution_count": 43
        }
      ]
    },
    {
      "cell_type": "code",
      "source": [
        "from qiskit import transpile\n",
        "from qiskit.visualization import plot_histogram\n",
        "from qiskit_aer import AerSimulator\n",
        "\n",
        "simulator = AerSimulator()\n",
        "circuit_simulator = simulator.run(transpile(circuit,simulator), shots=1000)\n",
        "statistics = circuit_simulator.result().get_counts()\n",
        "plot_histogram(statistics)"
      ],
      "metadata": {
        "colab": {
          "base_uri": "https://localhost:8080/",
          "height": 335
        },
        "id": "2DUD6zaHtyFK",
        "outputId": "1d86fec3-d4c1-47fd-95d6-1becb026d3c8"
      },
      "execution_count": null,
      "outputs": [
        {
          "output_type": "execute_result",
          "data": {
            "text/plain": [
              "<Figure size 504x360 with 1 Axes>"
            ],
            "image/png": "[encoded data removed]"
          },
          "metadata": {},
          "execution_count": 44
        }
      ]
    },
    {
      "cell_type": "code",
      "source": [
        "from qiskit import QuantumCircuit, QuantumRegister, ClassicalRegister\n",
        "X = QuantumRegister(1, \"x\")\n",
        "Y = QuantumRegister(1, \"y\")\n",
        "A = ClassicalRegister(1, \"a\")\n",
        "B = ClassicalRegister(1, \"b\")\n",
        "circuit = QuantumCircuit(Y, X, B, A)\n",
        "circuit.x(X)\n",
        "circuit.h(Y)\n",
        "circuit.cx(Y, X)\n",
        "\n",
        "circuit.measure(Y, B)\n",
        "circuit.measure(X, A)\n",
        "circuit.draw()\n",
        "circuit.draw('mpl')"
      ],
      "metadata": {
        "colab": {
          "base_uri": "https://localhost:8080/",
          "height": 231
        },
        "id": "uPGVaeWXuCJT",
        "outputId": "5901ec9f-fded-4747-dc58-91976ed27705"
      },
      "execution_count": null,
      "outputs": [
        {
          "output_type": "execute_result",
          "data": {
            "text/plain": [
              "<Figure size 314.271x264.88 with 1 Axes>"
            ],
            "image/png": "[encoded data removed]"
          },
          "metadata": {},
          "execution_count": 45
        }
      ]
    },
    {
      "cell_type": "code",
      "source": [
        "from qiskit import transpile\n",
        "from qiskit.visualization import plot_histogram\n",
        "from qiskit_aer import AerSimulator\n",
        "\n",
        "simulator = AerSimulator()\n",
        "circuit_simulator = simulator.run(transpile(circuit,simulator), shots=1000)\n",
        "statistics = circuit_simulator.result().get_counts()\n",
        "plot_histogram(statistics)"
      ],
      "metadata": {
        "colab": {
          "base_uri": "https://localhost:8080/",
          "height": 335
        },
        "id": "sjmAo0j-uJGe",
        "outputId": "00408bcf-89df-4cd2-9640-86c6661b5c7c"
      },
      "execution_count": null,
      "outputs": [
        {
          "output_type": "execute_result",
          "data": {
            "text/plain": [
              "<Figure size 504x360 with 1 Axes>"
            ],
            "image/png": "[encoded data removed]"
          },
          "metadata": {},
          "execution_count": 46
        }
      ]
    },
    {
      "cell_type": "code",
      "source": [
        "from qiskit import QuantumCircuit, QuantumRegister, ClassicalRegister\n",
        "X = QuantumRegister(1, \"x\")\n",
        "Y = QuantumRegister(1, \"y\")\n",
        "A = ClassicalRegister(1, \"a\")\n",
        "B = ClassicalRegister(1, \"b\")\n",
        "circuit = QuantumCircuit(Y, X, B, A)\n",
        "circuit.x(X)\n",
        "circuit.x(Y)\n",
        "circuit.h(Y)\n",
        "circuit.cx(Y, X)\n",
        "\n",
        "circuit.measure(Y, B)\n",
        "circuit.measure(X, A)\n",
        "circuit.draw()\n",
        "circuit.draw('mpl')"
      ],
      "metadata": {
        "colab": {
          "base_uri": "https://localhost:8080/",
          "height": 231
        },
        "id": "s0lWMXDluJP1",
        "outputId": "2b42188b-a233-4e3f-aa89-551b1cdcf04e"
      },
      "execution_count": null,
      "outputs": [
        {
          "output_type": "execute_result",
          "data": {
            "text/plain": [
              "<Figure size 374.471x264.88 with 1 Axes>"
            ],
            "image/png": "[encoded data removed]"
          },
          "metadata": {},
          "execution_count": 8
        }
      ]
    },
    {
      "cell_type": "code",
      "source": [
        "from qiskit import transpile\n",
        "from qiskit.visualization import plot_histogram\n",
        "from qiskit_aer import AerSimulator\n",
        "\n",
        "simulator = AerSimulator()\n",
        "circuit_simulator = simulator.run(transpile(circuit,simulator), shots=1000)\n",
        "statistics = circuit_simulator.result().get_counts()\n",
        "plot_histogram(statistics)"
      ],
      "metadata": {
        "colab": {
          "base_uri": "https://localhost:8080/",
          "height": 335
        },
        "id": "ySZPkm8IuJXR",
        "outputId": "d889c4a5-c7f3-468a-bee1-c596032232b1"
      },
      "execution_count": null,
      "outputs": [
        {
          "output_type": "execute_result",
          "data": {
            "text/plain": [
              "<Figure size 504x360 with 1 Axes>"
            ],
            "image/png": "[encoded data removed]"
          },
          "metadata": {},
          "execution_count": 9
        }
      ]
    },
    {
      "cell_type": "code",
      "source": [
        "from qiskit import IBMQ, Aer\n",
        "from qiskit.providers.ibmq import least_busy\n",
        "from qiskit import QuantumCircuit, assemble, transpile"
      ],
      "metadata": {
        "id": "X_0PNLOe7XdG"
      },
      "execution_count": null,
      "outputs": []
    },
    {
      "cell_type": "code",
      "source": [
        "IBMQ.save_account('fbad2813d7db094b227a82658e29c649d70a4e662aee8d4fdae0ad4ba5ee87aaa27ec81ec35a2eeaa8229abdb597cc5ad7108e2b564694b74942d086d0799807', overwrite=True)"
      ],
      "metadata": {
        "colab": {
          "base_uri": "https://localhost:8080/"
        },
        "id": "6gzAGWb27cyI",
        "outputId": "2e6514db-4cb0-410f-c51e-d3ecdc0af28f"
      },
      "execution_count": null,
      "outputs": [
        {
          "output_type": "stream",
          "name": "stderr",
          "text": [
            "<ipython-input-11-9254ce947d52>:1: DeprecationWarning: The qiskit.IBMQ entrypoint and the qiskit-ibmq-provider package (accessible from 'qiskit.providers.ibmq`) are deprecated and will be removed in a future release. Instead you should use the qiskit-ibm-provider package which is accessible from 'qiskit_ibm_provider'. You can install it with 'pip install qiskit_ibm_provider'. Just replace 'qiskit.IBMQ' with 'qiskit_ibm_provider.IBMProvider'\n",
            "  IBMQ.save_account('fbad2813d7db094b227a82658e29c649d70a4e662aee8d4fdae0ad4ba5ee87aaa27ec81ec35a2eeaa8229abdb597cc5ad7108e2b564694b74942d086d0799807', overwrite=True)\n"
          ]
        }
      ]
    },
    {
      "cell_type": "code",
      "source": [
        "IBMQ.load_account()\n",
        "provider = IBMQ.get_provider(hub='ibm-q')\n",
        "backend = least_busy(provider.backends(filters=lambda x: not x.configuration().simulator))\n",
        "print(\"least busy backend: \", backend)"
      ],
      "metadata": {
        "colab": {
          "base_uri": "https://localhost:8080/"
        },
        "id": "6aev5H0Y7jVt",
        "outputId": "97a4b831-72ec-400f-9e5a-ce90a975879d"
      },
      "execution_count": null,
      "outputs": [
        {
          "output_type": "stream",
          "name": "stdout",
          "text": [
            "least busy backend:  ibmq_jakarta\n"
          ]
        }
      ]
    },
    {
      "cell_type": "code",
      "source": [
        "from qiskit.tools.monitor import job_monitor\n",
        "\n",
        "transpiled_dj_circuit = transpile(circuit, backend, optimization_level=3)\n",
        "job = backend.run(transpiled_dj_circuit)\n",
        "job_monitor(job, interval=2)"
      ],
      "metadata": {
        "colab": {
          "base_uri": "https://localhost:8080/"
        },
        "id": "vwGuDzy_7qxC",
        "outputId": "852c7444-ca81-4cf5-aeec-214c770dde4e"
      },
      "execution_count": null,
      "outputs": [
        {
          "output_type": "stream",
          "name": "stdout",
          "text": [
            "Job Status: job has successfully run\n"
          ]
        }
      ]
    },
    {
      "cell_type": "code",
      "source": [
        "results = job.result()\n",
        "answer = results.get_counts()\n",
        "\n",
        "plot_histogram(answer)"
      ],
      "metadata": {
        "colab": {
          "base_uri": "https://localhost:8080/",
          "height": 337
        },
        "id": "NHHj3iUW79ac",
        "outputId": "d69f70bf-db5c-47cd-d8c6-e17ae4012b22"
      },
      "execution_count": null,
      "outputs": [
        {
          "output_type": "execute_result",
          "data": {
            "text/plain": [
              "<Figure size 504x360 with 1 Axes>"
            ],
            "image/png": "[encoded data removed]"
          },
          "metadata": {},
          "execution_count": 14
        }
      ]
    },
    {
      "cell_type": "code",
      "source": [
        "from qiskit import QuantumCircuit, QuantumRegister, ClassicalRegister\n",
        "X = QuantumRegister(1, \"x\")\n",
        "Y = QuantumRegister(1, \"y\")\n",
        "A = ClassicalRegister(1, \"a\")\n",
        "B = ClassicalRegister(1, \"b\")\n",
        "circuit = QuantumCircuit(Y, X, B, A)\n",
        "circuit.h(Y)\n",
        "circuit.cx(Y, X)\n",
        "\n",
        "circuit.measure(Y, B)\n",
        "circuit.measure(X, A)\n",
        "circuit.draw()\n",
        "circuit.draw('mpl')"
      ],
      "metadata": {
        "colab": {
          "base_uri": "https://localhost:8080/",
          "height": 231
        },
        "id": "X9kd7tWq9kRy",
        "outputId": "d0925225-fc1c-4a36-b02e-4b2a1c329ad5"
      },
      "execution_count": null,
      "outputs": [
        {
          "output_type": "execute_result",
          "data": {
            "text/plain": [
              "<Figure size 314.271x264.88 with 1 Axes>"
            ],
            "image/png": "[encoded data removed]"
          },
          "metadata": {},
          "execution_count": 18
        }
      ]
    },
    {
      "cell_type": "code",
      "source": [
        "transpiled_dj_circuit = transpile(circuit, backend, optimization_level=3)\n",
        "job = backend.run(transpiled_dj_circuit)\n",
        "job_monitor(job, interval=2)\n"
      ],
      "metadata": {
        "colab": {
          "base_uri": "https://localhost:8080/"
        },
        "id": "E1ACU_s59IEp",
        "outputId": "7d00fc6a-e38a-4e36-b6d8-d882c02be161"
      },
      "execution_count": null,
      "outputs": [
        {
          "output_type": "stream",
          "name": "stdout",
          "text": [
            "Job Status: job has successfully run\n"
          ]
        }
      ]
    },
    {
      "cell_type": "code",
      "source": [
        "results = job.result()\n",
        "answer = results.get_counts()\n",
        "\n",
        "plot_histogram(answer)\n"
      ],
      "metadata": {
        "colab": {
          "base_uri": "https://localhost:8080/",
          "height": 335
        },
        "id": "CFChRmip9U-0",
        "outputId": "f1d59ba3-f2da-4f39-db96-d9a80f1e0472"
      },
      "execution_count": null,
      "outputs": [
        {
          "output_type": "execute_result",
          "data": {
            "text/plain": [
              "<Figure size 504x360 with 1 Axes>"
            ],
            "image/png": "[encoded data removed]"
          },
          "metadata": {},
          "execution_count": 20
        }
      ]
    }
  ]
}